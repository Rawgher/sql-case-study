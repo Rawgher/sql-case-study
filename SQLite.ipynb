{
 "cells": [
  {
   "cell_type": "code",
   "execution_count": 1,
   "id": "369bb237",
   "metadata": {},
   "outputs": [
    {
     "data": {
      "text/plain": [
       "[('Table Tennis', 180), ('Snooker Table', 240), ('Pool Table', 270)]"
      ]
     },
     "execution_count": 1,
     "metadata": {},
     "output_type": "execute_result"
    }
   ],
   "source": [
    "import sqlite3\n",
    "\n",
    "# Connect to the SQLite database\n",
    "connection = sqlite3.connect('sqlite_db_pythonsqlite.db')\n",
    "\n",
    "# Create a cursor\n",
    "cursor = connection.cursor()\n",
    "\n",
    "query = '''\n",
    "SELECT\n",
    "    f.name AS facility,\n",
    "    SUM(CASE WHEN b.memid = 0 THEN b.slots * f.guestcost\n",
    "             ELSE b.slots * f.membercost END) AS total_revenue\n",
    "FROM\n",
    "    Bookings AS b\n",
    "INNER JOIN\n",
    "    Facilities AS f\n",
    "    ON b.facid = f.facid\n",
    "GROUP BY\n",
    "    f.name\n",
    "HAVING\n",
    "    total_revenue < 1000\n",
    "ORDER BY\n",
    "    total_revenue;\n",
    "'''\n",
    "\n",
    "cursor.execute(query)\n",
    "\n",
    "results = cursor.fetchall()\n",
    "\n",
    "results"
   ]
  },
  {
   "cell_type": "code",
   "execution_count": 2,
   "id": "08456219",
   "metadata": {},
   "outputs": [
    {
     "data": {
      "text/plain": [
       "[('Bader, Florence', 'Stibbons, Ponder'),\n",
       " ('Baker, Anne', 'Stibbons, Ponder'),\n",
       " ('Baker, Timothy', 'Farrell, Jemima'),\n",
       " ('Boothe, Tim', 'Rownam, Tim'),\n",
       " ('Butters, Gerald', 'Smith, Darren'),\n",
       " ('Coplin, Joan', 'Baker, Timothy'),\n",
       " ('Crumpet, Erica', 'Smith, Tracy'),\n",
       " ('Dare, Nancy', 'Joplette, Janice'),\n",
       " ('Farrell, David', None),\n",
       " ('Farrell, Jemima', None),\n",
       " ('Genting, Matthew', 'Butters, Gerald'),\n",
       " ('Hunt, John', 'Purview, Millicent'),\n",
       " ('Jones, David', 'Joplette, Janice'),\n",
       " ('Jones, Douglas', 'Jones, David'),\n",
       " ('Joplette, Janice', 'Smith, Darren'),\n",
       " ('Mackenzie, Anna', 'Smith, Darren'),\n",
       " ('Owen, Charles', 'Smith, Darren'),\n",
       " ('Pinker, David', 'Farrell, Jemima'),\n",
       " ('Purview, Millicent', 'Smith, Tracy'),\n",
       " ('Rownam, Tim', None),\n",
       " ('Rumney, Henrietta', 'Genting, Matthew'),\n",
       " ('Sarwin, Ramnaresh', 'Bader, Florence'),\n",
       " ('Smith, Darren', None),\n",
       " ('Smith, Darren', None),\n",
       " ('Smith, Jack', 'Smith, Darren'),\n",
       " ('Smith, Tracy', None),\n",
       " ('Stibbons, Ponder', 'Tracy, Burton'),\n",
       " ('Tracy, Burton', None),\n",
       " ('Tupperware, Hyacinth', None),\n",
       " ('Worthington-Smyth, Henry', 'Smith, Tracy')]"
      ]
     },
     "execution_count": 2,
     "metadata": {},
     "output_type": "execute_result"
    }
   ],
   "source": [
    "query = '''\n",
    "SELECT \n",
    "    (m.surname || \", \" || m.firstname) AS member_name,\n",
    "    (r.surname || \", \" || r.firstname) AS recommended_by\n",
    "FROM\n",
    "    Members AS m\n",
    "LEFT JOIN\n",
    "    Members AS r\n",
    "    ON m.recommendedby = r.memid\n",
    "WHERE\n",
    "    m.memid != 0\n",
    "ORDER BY\n",
    "    m.surname,\n",
    "    m.firstname;\n",
    "'''\n",
    "\n",
    "cursor.execute(query)\n",
    "\n",
    "results = cursor.fetchall()\n",
    "results"
   ]
  },
  {
   "cell_type": "code",
   "execution_count": 3,
   "id": "e443c4ae",
   "metadata": {},
   "outputs": [
    {
     "data": {
      "text/plain": [
       "[('Badminton Court', 344),\n",
       " ('Massage Room 1', 421),\n",
       " ('Massage Room 2', 27),\n",
       " ('Pool Table', 783),\n",
       " ('Snooker Table', 421),\n",
       " ('Squash Court', 195),\n",
       " ('Table Tennis', 385),\n",
       " ('Tennis Court 1', 308),\n",
       " ('Tennis Court 2', 276)]"
      ]
     },
     "execution_count": 3,
     "metadata": {},
     "output_type": "execute_result"
    }
   ],
   "source": [
    "query = '''\n",
    "SELECT\n",
    "    f.name AS facility,\n",
    "    COUNT(b.memid) AS member_usage\n",
    "FROM\n",
    "    Facilities AS f\n",
    "LEFT JOIN\n",
    "    Bookings AS b\n",
    "    ON f.facid = b.facid\n",
    "WHERE\n",
    "    b.memid != 0\n",
    "GROUP BY\n",
    "    f.name\n",
    "ORDER BY\n",
    "    facility;\n",
    "'''\n",
    "\n",
    "cursor.execute(query)\n",
    "\n",
    "results = cursor.fetchall()\n",
    "results"
   ]
  },
  {
   "cell_type": "code",
   "execution_count": 4,
   "id": "505ea774",
   "metadata": {},
   "outputs": [
    {
     "data": {
      "text/plain": [
       "[('2012-07', 'Badminton Court', 51),\n",
       " ('2012-07', 'Massage Room 1', 77),\n",
       " ('2012-07', 'Massage Room 2', 4),\n",
       " ('2012-07', 'Pool Table', 103),\n",
       " ('2012-07', 'Snooker Table', 68),\n",
       " ('2012-07', 'Squash Court', 23),\n",
       " ('2012-07', 'Table Tennis', 48),\n",
       " ('2012-07', 'Tennis Court 1', 65),\n",
       " ('2012-07', 'Tennis Court 2', 41),\n",
       " ('2012-08', 'Badminton Court', 132),\n",
       " ('2012-08', 'Massage Room 1', 153),\n",
       " ('2012-08', 'Massage Room 2', 9),\n",
       " ('2012-08', 'Pool Table', 272),\n",
       " ('2012-08', 'Snooker Table', 154),\n",
       " ('2012-08', 'Squash Court', 85),\n",
       " ('2012-08', 'Table Tennis', 143),\n",
       " ('2012-08', 'Tennis Court 1', 111),\n",
       " ('2012-08', 'Tennis Court 2', 109),\n",
       " ('2012-09', 'Badminton Court', 161),\n",
       " ('2012-09', 'Massage Room 1', 191),\n",
       " ('2012-09', 'Massage Room 2', 14),\n",
       " ('2012-09', 'Pool Table', 408),\n",
       " ('2012-09', 'Snooker Table', 199),\n",
       " ('2012-09', 'Squash Court', 87),\n",
       " ('2012-09', 'Table Tennis', 194),\n",
       " ('2012-09', 'Tennis Court 1', 132),\n",
       " ('2012-09', 'Tennis Court 2', 126)]"
      ]
     },
     "execution_count": 4,
     "metadata": {},
     "output_type": "execute_result"
    }
   ],
   "source": [
    "query = '''\n",
    "SELECT\n",
    "    strftime('%Y-%m', b.starttime) AS month,\n",
    "    f.name AS facility,\n",
    "    COUNT(b.memid) AS member_usage\n",
    "FROM\n",
    "    Facilities AS f\n",
    "LEFT JOIN\n",
    "    Bookings AS b\n",
    "    ON f.facid = b.facid\n",
    "WHERE\n",
    "    b.memid != 0\n",
    "GROUP BY\n",
    "    month,\n",
    "    facility\n",
    "ORDER BY\n",
    "    month,\n",
    "    facility;\n",
    "'''\n",
    "\n",
    "cursor.execute(query)\n",
    "\n",
    "results = cursor.fetchall()\n",
    "results"
   ]
  }
 ],
 "metadata": {
  "kernelspec": {
   "display_name": "Python 3 (ipykernel)",
   "language": "python",
   "name": "python3"
  },
  "language_info": {
   "codemirror_mode": {
    "name": "ipython",
    "version": 3
   },
   "file_extension": ".py",
   "mimetype": "text/x-python",
   "name": "python",
   "nbconvert_exporter": "python",
   "pygments_lexer": "ipython3",
   "version": "3.11.5"
  }
 },
 "nbformat": 4,
 "nbformat_minor": 5
}
